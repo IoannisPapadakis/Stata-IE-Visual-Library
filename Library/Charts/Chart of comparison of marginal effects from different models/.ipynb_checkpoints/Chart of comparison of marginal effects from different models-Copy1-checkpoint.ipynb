{
 "cells": [
  {
   "cell_type": "markdown",
   "metadata": {},
   "source": [
    "### 1. Setting specifications"
   ]
  },
  {
   "cell_type": "code",
   "execution_count": null,
   "metadata": {},
   "outputs": [],
   "source": [
    "global graph_opts title(, justification(left) color(black) span pos(11)) graphregion(color(white)) ylab(,angle(0) nogrid) xtit(,placement(left) justification(left)) yscale(noline) xscale(noline) legend(region(lc(none) fc(none)))"
   ]
  },
  {
   "cell_type": "markdown",
   "metadata": {},
   "source": [
    "### 2. Uploading data "
   ]
  },
  {
   "cell_type": "code",
   "execution_count": null,
   "metadata": {},
   "outputs": [],
   "source": [
    "use \"global graph_opts title(, justification(left) color(black) span pos(11)) graphregion(color(white)) ylab(,angle(0) nogrid) xtit(,placement(left) justification(left)) yscale(noline) xscale(noline) legend(region(lc(none) fc(none)))\", clear"
   ]
  },
  {
   "cell_type": "markdown",
   "metadata": {},
   "source": [
    "### 3. Creating labels"
   ]
  },
  {
   "cell_type": "code",
   "execution_count": null,
   "metadata": {},
   "outputs": [],
   "source": [
    "label var as_correct \"Asthma: Inhaler/Bronchdilator\"\n",
    "label var ch_correct \"Child Diarrhea: ORS\"\n",
    "label var cp_correct \"Chest Pain: Referral/Aspirin/ECG\"\n",
    "label var tb_correct \"Tuberculosis: AFB Smear\""
   ]
  },
  {
   "cell_type": "markdown",
   "metadata": {},
   "source": [
    "### 4. Creating the graph with regression results"
   ]
  },
  {
   "cell_type": "code",
   "execution_count": null,
   "metadata": {},
   "outputs": [],
   "source": [
    "cap mat drop theResults\n",
    "\tlocal theLabels \"\"\n",
    "\tlocal x = 15.5\n",
    "\n",
    "\tqui foreach var of varlist ??_correct refer med_any med_class_any_6 med_class_any_16 {\n",
    "\n",
    "\t\tlocal theLabel : var label `var'\n",
    "\t\tlocal theLabels `\"`theLabels' `x' \"`theLabel'\"\"'\n",
    "\t\tlocal x = `x' - 2\n",
    "\t\n",
    "\t\treg `var' facility_private i.case_code \n",
    "\t\t\n",
    "\t\tmat a = r(table)\n",
    "\t\t\tlocal b = a[1,1]\n",
    "\t\t\tlocal ll = a[5,1]\n",
    "\t\t\tlocal ul = a[6,1]\n",
    "\t\t\tmat a = [`b',`ll',`ul',1]\n",
    "\t\t\t\n",
    "\t\t\tmat rownames a = \"`var'\"\n",
    "\t\t\n",
    "\t\tlogit `var' facility_private i.case_code \n",
    "\t\t\tmargins , dydx(facility_private)\n",
    "\t\t\n",
    "\t\tmat b = r(table)\n",
    "\t\t\tlocal b = b[1,1]\n",
    "\t\t\tlocal ll = b[5,1]\n",
    "\t\t\tlocal ul = b[6,1]\n",
    "\t\t\tmat b = [`b',`ll',`ul',2]\n",
    "\t\t\t\n",
    "\t\t\tmat rownames b = \"`var'\"\n",
    "\t\t\t\n",
    "\t\tmat theResults = nullmat(theResults) \\ a \\ b \n",
    "\t\t\n",
    "\t\t}\n",
    "\t\t\n",
    "\tmat colnames theResults = \"b\" \"ll\" \"ul\" \"type\"\n",
    "\tmatlist theResults\n",
    "\n",
    "\tclear\n",
    "\tsvmat theResults , names(col)\n",
    "\t\n",
    "\tgen n = _n\n",
    "\treplace n = 17-n\n",
    "\ttw ///\n",
    "\t\t(rcap ll ul n if type == 1 , hor lc(navy)) ///\n",
    "\t\t(scatter n b if type == 1 , mc(black)) ///\n",
    "\t\t(rcap ll ul n if type == 2 , hor lc(maroon)) ///\n",
    "\t\t(scatter n b if type == 2 , mc(black)) ///\n",
    "\t\t, $graph_opts ylab(`theLabels') ytit(\" \") xlab(-1 \"-100p.p.\" -.5 `\"\"-50p.p.\" \"{&larr} Favors Public\"\"' 0 \"No Effect\" .5 `\"\"+50p.p.\" \"Favors Private {&rarr}\"\"' 1 \"+100p.p.\") ///\n",
    "\t\t\txline(0 , lc(gs12) lp(dash)) legend(order(2 \"Marginal Effect\" 1 \"Linear Model\" 3 \"Logistic Model\") r(1))"
   ]
  },
  {
   "cell_type": "markdown",
   "metadata": {},
   "source": [
    "### 5. Exporting the graph"
   ]
  },
  {
   "cell_type": "code",
   "execution_count": null,
   "metadata": {},
   "outputs": [],
   "source": [
    "qui graph export \"figure.png\" , replace width(2000)"
   ]
  },
  {
   "cell_type": "code",
   "execution_count": null,
   "metadata": {},
   "outputs": [],
   "source": []
  },
  {
   "cell_type": "code",
   "execution_count": null,
   "metadata": {},
   "outputs": [],
   "source": []
  },
  {
   "cell_type": "code",
   "execution_count": null,
   "metadata": {},
   "outputs": [],
   "source": []
  },
  {
   "cell_type": "code",
   "execution_count": null,
   "metadata": {},
   "outputs": [],
   "source": []
  },
  {
   "cell_type": "code",
   "execution_count": null,
   "metadata": {},
   "outputs": [],
   "source": []
  },
  {
   "cell_type": "code",
   "execution_count": null,
   "metadata": {},
   "outputs": [],
   "source": []
  }
 ],
 "metadata": {
  "kernelspec": {
   "display_name": "Stata",
   "language": "stata",
   "name": "stata"
  },
  "language_info": {
   "file_extension": ".do",
   "mimetype": "text/x-stata",
   "name": "stata"
  }
 },
 "nbformat": 4,
 "nbformat_minor": 2
}
