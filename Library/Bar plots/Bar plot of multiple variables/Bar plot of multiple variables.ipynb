{
 "cells": [
  {
   "cell_type": "markdown",
   "metadata": {},
   "source": [
    "### 1. Upload dataset (.dta)"
   ]
  },
  {
   "cell_type": "code",
   "execution_count": 1,
   "metadata": {},
   "outputs": [],
   "source": [
    "use \"https://github.com/worldbank/Stata-IE-Visual-Library/raw/develop/Library/Bar%20plots/Bar%20plot%20of%20multiple%20variables/data.dta\", clear"
   ]
  },
  {
   "cell_type": "markdown",
   "metadata": {},
   "source": [
    "### 2.  We will create mean of all crop observations across each ``treatment_group``, baseline, and midline category. \n",
    "First we collapse baseline and midline variables to get Treatment/Control mean."
   ]
  },
  {
   "cell_type": "code",
   "execution_count": 2,
   "metadata": {},
   "outputs": [
    {
     "name": "stdout",
     "output_type": "stream",
     "text": [
      "variable treatment_group not found\n",
      "(error in option by())\n"
     ]
    },
    {
     "name": "stderr",
     "output_type": "stream",
     "text": [
      "r(111);\n"
     ]
    },
    {
     "name": "stdout",
     "output_type": "stream",
     "text": [
      "\n"
     ]
    }
   ],
   "source": [
    "collapse bl_* ml_*, by(treatment_group) "
   ]
  },
  {
   "cell_type": "markdown",
   "metadata": {},
   "source": [
    "### 3. Reshape dataset to a long-format, indexed by the new \"crop\" variable. This is a string variable with the name of the crop.\n",
    "\n",
    "(e.g. variables ``ml_w_Barley_Prod`` and ``bl_w_Barley_Prod``, ``w_Barley_Prod`` becomes the value of the new `crop` variable.) \n",
    "\n",
    "\n",
    "End product: data with columns of \n",
    "\n",
    "    treatment_group\n",
    "    crop\n",
    "    bl_ \n",
    "    ml_"
   ]
  },
  {
   "cell_type": "code",
   "execution_count": null,
   "metadata": {},
   "outputs": [],
   "source": [
    "qui reshape long bl_ ml_, i(treatment_group) j(crop) str"
   ]
  },
  {
   "cell_type": "markdown",
   "metadata": {},
   "source": [
    "### 4. Reshape again dataset to wide-format, indexed by \"treatment_group\" for each baseline and midlline values.\n",
    "\n",
    "For each value of ``crop``, the code takes variable ``treatment_group``, and creates merged variable with ``bl_`` and ``ml_`` variables.\n",
    "(e.g. Each ``bl_`` variable will now have two types, ``bl_0 `` and ``bl_1``, using values from ``treatment_group``, which is 0 and 1.)\n",
    "\n",
    "Data will have columns of:\n",
    "\n",
    "    crop\n",
    "    bl_0\n",
    "    bl_1\n",
    "    ml_0\n",
    "    ml_1"
   ]
  },
  {
   "cell_type": "code",
   "execution_count": null,
   "metadata": {},
   "outputs": [],
   "source": [
    "qui reshape wide bl_ ml_, i(crop) j(treatment_group)"
   ]
  },
  {
   "cell_type": "markdown",
   "metadata": {},
   "source": [
    "### 5. Keeping only the variables of interests"
   ]
  },
  {
   "cell_type": "code",
   "execution_count": null,
   "metadata": {},
   "outputs": [],
   "source": [
    "gsort -ml_1\n",
    "qui keep if _n<4"
   ]
  },
  {
   "cell_type": "markdown",
   "metadata": {},
   "source": [
    "### 6. Creating position vector for bars for the y-axis"
   ]
  },
  {
   "cell_type": "code",
   "execution_count": null,
   "metadata": {},
   "outputs": [],
   "source": [
    "qui gen xml_1 = _n\n",
    "qui gen xml_0 = xml_1 +.2\n",
    "qui gen xbl_1 = xml_1 +.4\n",
    "qui gen xbl_0 = xml_1 +.6"
   ]
  },
  {
   "cell_type": "markdown",
   "metadata": {},
   "source": [
    "### 7. Cleaning variables for the graph"
   ]
  },
  {
   "cell_type": "code",
   "execution_count": null,
   "metadata": {},
   "outputs": [],
   "source": [
    "qui foreach var of varlist bl_* ml_* {\n",
    "\treplace `var' = round(`var',.1)\n",
    "\t}\n",
    "\n",
    "qui replace crop = subinstr(crop, \"_\", \" \",.) \n",
    "qui replace crop = subinstr(crop, \"w\", \" \",.)"
   ]
  },
  {
   "cell_type": "markdown",
   "metadata": {},
   "source": [
    "### 8. Inserting the list of values in the local macro macname "
   ]
  },
  {
   "cell_type": "code",
   "execution_count": null,
   "metadata": {},
   "outputs": [],
   "source": [
    "qui forvalues j = 1/3 {\n",
    "\tlevelsof crop if _n==`j', local(crop`j')\n",
    "\t}"
   ]
  },
  {
   "cell_type": "markdown",
   "metadata": {},
   "source": [
    "### 9. Creating a horizontal bar graph with cleaned data"
   ]
  },
  {
   "cell_type": "code",
   "execution_count": null,
   "metadata": {},
   "outputs": [],
   "source": [
    "twoway bar bl_0 xbl_0, horizontal bcolor(edkblue) barwidth(.2) || ///\n",
    "\tbar ml_0 xml_0, horizontal bcolor(eltblue) barwidth(.2) || ///\n",
    "\tscatter xml_0 ml_0, mlabel(ml_0) mlabcolor(black) msymbol(none) mlabsize(vsmall) || ///\n",
    "\tscatter xbl_0 bl_0, mlabel(bl_0) mlabcolor(black) msymbol(none) mlabsize(vsmall) || ///\n",
    "\tbar bl_1 xbl_1, horizontal bcolor(emidblue) barwidth(.2) || ///\n",
    "\tbar ml_1 xml_1, horizontal bcolor(black) barwidth(.2) || ///\n",
    "\tscatter xml_1 ml_1, mlabel(ml_1) mlabcolor(black) msymbol(none) mlabsize(vsmall) || ///\n",
    "\tscatter xbl_1 bl_1, mlabel(bl_1) mlabcolor(black) msymbol(none) mlabsize(vsmall) ///\n",
    "\txlabel(0 \"0\" 50 \"50\" 100 \"100\" 150 \"150\") ///\n",
    "\txscale(range(0(20)100)) /// \n",
    "\tylabel(1.3 `crop1' 2.3 `crop2' 3.3 `crop3', angle(0)) ///\n",
    "\tgraphregion(color(white)) bgcolor(white) ///\n",
    "\tlegend(label(1 \"Baseline-Control\") label(2 \"Midline-Control\") label(5 \"Baseline-Treatment\") label(6 \"Midline-Treatment\") order(1 5 2 6)) "
   ]
  },
  {
   "cell_type": "markdown",
   "metadata": {},
   "source": [
    "### 10. Exporting the graph"
   ]
  },
  {
   "cell_type": "code",
   "execution_count": null,
   "metadata": {
    "scrolled": true
   },
   "outputs": [],
   "source": [
    "graph export \"figure.png\", replace"
   ]
  }
 ],
 "metadata": {
  "kernelspec": {
   "display_name": "Stata",
   "language": "stata",
   "name": "stata"
  },
  "language_info": {
   "file_extension": ".do",
   "mimetype": "text/x-stata",
   "name": "stata"
  }
 },
 "nbformat": 4,
 "nbformat_minor": 2
}
