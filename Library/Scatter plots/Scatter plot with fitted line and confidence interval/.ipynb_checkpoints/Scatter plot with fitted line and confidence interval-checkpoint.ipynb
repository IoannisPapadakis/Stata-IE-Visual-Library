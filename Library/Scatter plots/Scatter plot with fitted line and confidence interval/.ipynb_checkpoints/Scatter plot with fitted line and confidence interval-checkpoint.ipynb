{
 "cells": [
  {
   "cell_type": "markdown",
   "metadata": {},
   "source": [
    "### 1. Uploading data"
   ]
  },
  {
   "cell_type": "code",
   "execution_count": null,
   "metadata": {},
   "outputs": [],
   "source": [
    "use \"https://github.com/worldbank/Stata-IE-Visual-Library/raw/develop/Library/Scatter%20plots/Scatter%20plot%20with%20fitted%20line%20and%20confidence%20interval/data.dta\", clear"
   ]
  },
  {
   "cell_type": "markdown",
   "metadata": {},
   "source": [
    "### 2. Creating the graph"
   ]
  },
  {
   "cell_type": "code",
   "execution_count": null,
   "metadata": {},
   "outputs": [],
   "source": [
    "twoway ///\n",
    "\t(lfitci jobs_scarce_code avg_growth ) ///\n",
    "\t(scatter jobs_scarce_code avg_growth if continent == \"Africa\", mcolor(cranberry) m(O) )  ///\n",
    "\t(scatter jobs_scarce_code avg_growth if continent == \"Asia\",   mcolor(dkgreen) m(D) ) ///\n",
    "\t(scatter jobs_scarce_code avg_growth if continent == \"Europe\", mcolor(ebblue ) m(T) ) ///\n",
    "\t(scatter jobs_scarce_code avg_growth if continent == \"North America\", mcolor(dkorange) m(O)) ///\n",
    "\t(scatter jobs_scarce_code avg_growth if continent == \"Oceania\", mcolor(navy) m(D) ) ///\n",
    "\t(scatter jobs_scarce_code avg_growth if continent == \"South America\", mcolor(red) m(T)),  ///\n",
    "\txlabel(-5(5)15) \t\t///\n",
    "\txtitle(\"Average Annual GDP per Capita Growth Rate (%)\", axis(1)) ///\n",
    "\tylabel(0(0.2)1) ///\n",
    "\tytitle(\"Gender Value Indicator\" ) ///\n",
    "\tlegend(order( 3 4 5 6 7 8) label(3 \"Africa\") label(4 \"Asia\")  label(5 \"Europe\") ///\n",
    "\tlabel(6 \"North America\") label(7 \"Oceania\") label(8 \"South America\")    ///\n",
    "\tring(0) position(4)) ///\n",
    "\ttitle(\"Gender Value Indicator and GDP per Capita Growth\" \"Correlation\")  ///\n",
    "\tnote(\"Source: World Values Survey (2014 or last available year) and World Bank\") /// \n",
    "\tgraphregion(color(white)) bgcolor(white)"
   ]
  },
  {
   "cell_type": "markdown",
   "metadata": {},
   "source": [
    "### 3. Exporting the graph"
   ]
  },
  {
   "cell_type": "code",
   "execution_count": null,
   "metadata": {},
   "outputs": [],
   "source": [
    "graph export \"figure.png\", as(png)  replace"
   ]
  }
 ],
 "metadata": {
  "kernelspec": {
   "display_name": "Stata",
   "language": "stata",
   "name": "stata"
  },
  "language_info": {
   "file_extension": ".do",
   "mimetype": "text/x-stata",
   "name": "stata"
  }
 },
 "nbformat": 4,
 "nbformat_minor": 2
}
