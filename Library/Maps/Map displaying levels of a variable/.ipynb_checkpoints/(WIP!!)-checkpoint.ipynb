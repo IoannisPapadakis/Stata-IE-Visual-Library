{
 "cells": [
  {
   "cell_type": "markdown",
   "metadata": {},
   "source": [
    "### 1. Installing commands\n",
    "\n",
    "If not installed yet, install the following."
   ]
  },
  {
   "cell_type": "code",
   "execution_count": 1,
   "metadata": {},
   "outputs": [
    {
     "name": "stdout",
     "output_type": "stream",
     "text": [
      "\n",
      "checking spmap consistency and verifying not already installed...\n",
      "all files already exist and are up to date.\n",
      "\n",
      "checking shp2dta consistency and verifying not already installed...\n",
      "all files already exist and are up to date.\n"
     ]
    }
   ],
   "source": [
    "ssc install spmap\n",
    "ssc install shp2dta"
   ]
  },
  {
   "cell_type": "markdown",
   "metadata": {},
   "source": [
    "### 2. Importing shapefile\n",
    "\n",
    "If running the code from a computer with a workind directory with all four files (``.dbf``, ``.prj``, ``.shp`` and ``.shx``), copy command is unnecessary. Adjust the name of ``.shp`` file to the one in the folder."
   ]
  },
  {
   "cell_type": "code",
   "execution_count": 2,
   "metadata": {},
   "outputs": [
    {
     "name": "stdout",
     "output_type": "stream",
     "text": [
      "\n",
      "\n",
      "\n",
      "\n",
      "\n",
      "\n",
      "\n",
      "type: 5\n",
      "\n",
      "\n",
      "(3 observations deleted)\n",
      "\n"
     ]
    }
   ],
   "source": [
    "cap erase world_shape.dta\n",
    "cap erase world_shape_coord.dta\n",
    "\n",
    "copy \"https://github.com/SaoriIwa/Stata-IE-Visual-Library/raw/master/Library/Maps/Map%20displaying%20levels%20of%20a%20variable/ne_110m_admin_0_countries.shp\" temp.shp \n",
    "copy \"https://github.com/SaoriIwa/Stata-IE-Visual-Library/raw/master/Library/Maps/Map%20displaying%20levels%20of%20a%20variable/ne_110m_admin_0_countries.dbf\" temp.dbf\n",
    "copy \"https://raw.githubusercontent.com/SaoriIwa/Stata-IE-Visual-Library/master/Library/Maps/Map%20displaying%20levels%20of%20a%20variable/ne_110m_admin_0_countries.prj\" temp.prj\n",
    "copy \"https://github.com/SaoriIwa/Stata-IE-Visual-Library/raw/master/Library/Maps/Map%20displaying%20levels%20of%20a%20variable/ne_110m_admin_0_countries.shx\" temp.shx\n",
    "\n",
    "shp2dta using temp.shp, database(world_shape) ///\n",
    "coordinates(world_shape_coord) genid(id)\n",
    "\n",
    "use  world_shape, clear\n",
    "drop if iso_a2==\"-99\"\n",
    "qui merge 1:1 iso_a2 using data, keep(1 3) nogen"
   ]
  },
  {
   "cell_type": "markdown",
   "metadata": {},
   "source": [
    "### 3. Creating the graph"
   ]
  },
  {
   "cell_type": "code",
   "execution_count": null,
   "metadata": {},
   "outputs": [],
   "source": [
    "spmap jobs_scarce_code using world_shape_coord if admin!=\"Antarctica\", id(id) ///\n",
    "\tfcolor(Reds) osize(.1) ocolor(black) ///\n",
    "\tclmethod(custom)  clbreaks(0 .2 .40 .6 .8 1)  ///\n",
    "\tlegend(position(8) ///\n",
    "\tregion(lcolor(black)) ///\n",
    "\tlabel(1 \"No data\") ///\n",
    "\tlabel(2 \"0% to 20%\") ///\n",
    "\tlabel(3 \"20% to 40%\") ///\n",
    "\tlabel(4 \"40% to 60%\") ///\n",
    "\tlabel(5 \"60% to 80%\") /// \n",
    "\tlabel(6 \"80% to 100%\")) ///\n",
    "\tlegend(region(color(white))) ///\n",
    "\tplotregion(icolor(bluishgray)) ///\n",
    "\ttitle(\"When jobs are scarce, men should have more of a right to a job than women.\") ///\n",
    "\tsubtitle(\"Agreement with the statement above by country\") ///\n",
    "\tnote(\"Source: World Values Survey (2014 or last available year)\") ///\n",
    "\tsaving(map, replace)"
   ]
  },
  {
   "cell_type": "markdown",
   "metadata": {},
   "source": [
    "### 4. Exporting the graph"
   ]
  },
  {
   "cell_type": "code",
   "execution_count": 4,
   "metadata": {},
   "outputs": [
    {
     "name": "stdout",
     "output_type": "stream",
     "text": [
      "\n",
      "> ent with the statement above by country\")  note(\"Source: World Values Survey (2014 or last available year)\")  saving(map, replace)\n",
      "(file map.gph saved)\n",
      "\n",
      ". `e91998a3d22afca500d2ed0b21f1f742'\n",
      "\n"
     ]
    }
   ],
   "source": [
    "qui graph export map.png, as(png)  replace"
   ]
  }
 ],
 "metadata": {
  "kernelspec": {
   "display_name": "Stata",
   "language": "stata",
   "name": "stata"
  },
  "language_info": {
   "file_extension": ".do",
   "mimetype": "text/x-stata",
   "name": "stata"
  }
 },
 "nbformat": 4,
 "nbformat_minor": 2
}
